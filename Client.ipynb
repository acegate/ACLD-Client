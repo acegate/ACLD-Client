{
 "cells": [
  {
   "cell_type": "code",
   "execution_count": 1,
   "id": "1ea65c5d",
   "metadata": {},
   "outputs": [],
   "source": [
    "import socket\n",
    "from _thread import *\n",
    "\n",
    "HOST = '192.168.101.1'\n",
    "PORT = 9999\n",
    "\n",
    "client_socket = socket.socket(socket.AF_INET,socket.SOCK_STREAM)\n",
    "client_socket.connect((HOST, PORT))"
   ]
  },
  {
   "cell_type": "code",
   "execution_count": null,
   "id": "d6d115f0",
   "metadata": {},
   "outputs": [
    {
     "name": "stdout",
     "output_type": "stream",
     "text": [
      ">> Connect Server\n",
      "\n",
      "asdasd\n",
      "adas\n"
     ]
    },
    {
     "name": "stderr",
     "output_type": "stream",
     "text": [
      "Exception ignored in thread started by: <function recv_data at 0x00000219747780D0>\n",
      "Traceback (most recent call last):\n",
      "  File \"C:\\Users\\나\\AppData\\Local\\Temp\\ipykernel_10568\\1400322489.py\", line 5, in recv_data\n",
      "ConnectionResetError: [WinError 10054] 현재 연결은 원격 호스트에 의해 강제로 끊겼습니다\n"
     ]
    }
   ],
   "source": [
    "# 서버로부터 메세지를 받는 메소드\n",
    "# 스레드로 구동 시켜, 메세지를 보내는 코드와 별개로 작동하도록 처리\n",
    "def recv_data(client_socket) :\n",
    "    while True :\n",
    "        data = client_socket.recv(1024)\n",
    "\n",
    "        print(\"recive : \",repr(data.decode()))\n",
    "start_new_thread(recv_data, (client_socket,))\n",
    "print ('>> Connect Server')\n",
    "\n",
    "while True:\n",
    "    message = input('')\n",
    "    if message == 'quit':\n",
    "        close_data = message\n",
    "        break\n",
    "\n",
    "    client_socket.send(message.encode())\n",
    "\n",
    "\n",
    "client_socket.close()"
   ]
  },
  {
   "cell_type": "code",
   "execution_count": null,
   "id": "35050e0b",
   "metadata": {},
   "outputs": [],
   "source": []
  },
  {
   "cell_type": "code",
   "execution_count": null,
   "id": "28380c7a",
   "metadata": {},
   "outputs": [],
   "source": []
  }
 ],
 "metadata": {
  "kernelspec": {
   "display_name": "Python 3 (ipykernel)",
   "language": "python",
   "name": "python3"
  },
  "language_info": {
   "codemirror_mode": {
    "name": "ipython",
    "version": 3
   },
   "file_extension": ".py",
   "mimetype": "text/x-python",
   "name": "python",
   "nbconvert_exporter": "python",
   "pygments_lexer": "ipython3",
   "version": "3.8.8"
  }
 },
 "nbformat": 4,
 "nbformat_minor": 5
}
