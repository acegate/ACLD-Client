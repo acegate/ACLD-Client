{
 "cells": [
  {
   "cell_type": "code",
   "execution_count": null,
   "id": "e57a9667",
   "metadata": {
    "scrolled": true
   },
   "outputs": [],
   "source": [
    "!pip install opencv-python"
   ]
  },
  {
   "cell_type": "code",
   "execution_count": null,
   "id": "95418335",
   "metadata": {},
   "outputs": [],
   "source": [
    "!pip install pillow"
   ]
  },
  {
   "cell_type": "code",
   "execution_count": 2,
   "id": "eeb7779e",
   "metadata": {},
   "outputs": [],
   "source": [
    "from PIL import ImageGrab\n",
    "import cv2\n",
    "import numpy as np\n",
    "\n",
    "X = 0\n",
    "Y = 0\n",
    "WINDOW_WIDTH = 1920\n",
    "WINDOW_HEIGHT = 1080\n",
    "\n",
    "def window_screen_shot():\n",
    "    img = ImageGrab.grab()\n",
    "    imgCrop = img.crop((X, Y, WINDOW_WIDTH, WINDOW_HEIGHT))\n",
    "    saveas = f\"{'windowscreen'}{'.png'}\"\n",
    "    imgCrop.save(saveas)"
   ]
  },
  {
   "cell_type": "code",
   "execution_count": 3,
   "id": "835e7812",
   "metadata": {},
   "outputs": [
    {
     "ename": "KeyboardInterrupt",
     "evalue": "",
     "output_type": "error",
     "traceback": [
      "\u001b[1;31m---------------------------------------------------------------------------\u001b[0m",
      "\u001b[1;31mKeyboardInterrupt\u001b[0m                         Traceback (most recent call last)",
      "Cell \u001b[1;32mIn[3], line 9\u001b[0m\n\u001b[0;32m      6\u001b[0m     \u001b[39mbreak\u001b[39;00m\n\u001b[0;32m      7\u001b[0m cv2\u001b[39m.\u001b[39mimshow(\u001b[39m'\u001b[39m\u001b[39mPC_cam\u001b[39m\u001b[39m'\u001b[39m, image)\n\u001b[1;32m----> 9\u001b[0m \u001b[39mif\u001b[39;00m cv2\u001b[39m.\u001b[39;49mwaitKey(\u001b[39m1\u001b[39;49m) \u001b[39m==\u001b[39m \u001b[39mord\u001b[39m(\u001b[39m'\u001b[39m\u001b[39mq\u001b[39m\u001b[39m'\u001b[39m):\n\u001b[0;32m     10\u001b[0m     \u001b[39m# cv2.imwrite('img_capture.png', image)\u001b[39;00m\n\u001b[0;32m     11\u001b[0m     encoded_img \u001b[39m=\u001b[39m np\u001b[39m.\u001b[39mfrombuffer(image, dtype \u001b[39m=\u001b[39m np\u001b[39m.\u001b[39muint8)\n\u001b[0;32m     12\u001b[0m     cv2\u001b[39m.\u001b[39mimwrite(\u001b[39m'\u001b[39m\u001b[39mimg_capture.png\u001b[39m\u001b[39m'\u001b[39m, encoded_img)\n",
      "\u001b[1;31mKeyboardInterrupt\u001b[0m: "
     ]
    }
   ],
   "source": [
    "\n",
    "capture = cv2.VideoCapture(0)\n",
    "\n",
    "while capture.isOpened():\n",
    "    ret, image = capture.read()\n",
    "    if not ret:\n",
    "        break\n",
    "    cv2.imshow('PC_cam', image)\n",
    "    \n",
    "    if cv2.waitKey(1) == ord('q'):\n",
    "        # cv2.imwrite('img_capture.png', image)\n",
    "        encoded_img = np.frombuffer(image, dtype = np.uint8)\n",
    "        cv2.imwrite('img_capture.png', encoded_img)\n",
    "        window_screen_shot()\n",
    "        break\n",
    "        \n",
    "capture.release()\n",
    "cv2.destroyAllWindows()\n",
    "    "
   ]
  },
  {
   "cell_type": "code",
   "execution_count": null,
   "id": "9159ddfd",
   "metadata": {},
   "outputs": [],
   "source": []
  }
 ],
 "metadata": {
  "kernelspec": {
   "display_name": "Python 3 (ipykernel)",
   "language": "python",
   "name": "python3"
  },
  "language_info": {
   "codemirror_mode": {
    "name": "ipython",
    "version": 3
   },
   "file_extension": ".py",
   "mimetype": "text/x-python",
   "name": "python",
   "nbconvert_exporter": "python",
   "pygments_lexer": "ipython3",
   "version": "3.10.11"
  }
 },
 "nbformat": 4,
 "nbformat_minor": 5
}
